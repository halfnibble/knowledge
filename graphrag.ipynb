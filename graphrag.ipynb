{
 "cells": [
  {
   "cell_type": "code",
   "execution_count": 15,
   "metadata": {},
   "outputs": [
    {
     "name": "stdout",
     "output_type": "stream",
     "text": [
      "Requirement already satisfied: pdfplumber in /opt/homebrew/lib/python3.10/site-packages (0.11.4)\n",
      "Requirement already satisfied: python-dotenv in /opt/homebrew/lib/python3.10/site-packages (1.0.1)\n",
      "Requirement already satisfied: openai in /opt/homebrew/lib/python3.10/site-packages (1.55.3)\n",
      "Collecting neo4j\n",
      "  Downloading neo4j-5.27.0-py3-none-any.whl.metadata (5.9 kB)\n",
      "Requirement already satisfied: pdfminer.six==20231228 in /opt/homebrew/lib/python3.10/site-packages (from pdfplumber) (20231228)\n",
      "Requirement already satisfied: Pillow>=9.1 in /opt/homebrew/lib/python3.10/site-packages (from pdfplumber) (11.0.0)\n",
      "Requirement already satisfied: pypdfium2>=4.18.0 in /opt/homebrew/lib/python3.10/site-packages (from pdfplumber) (4.30.0)\n",
      "Requirement already satisfied: charset-normalizer>=2.0.0 in /opt/homebrew/lib/python3.10/site-packages (from pdfminer.six==20231228->pdfplumber) (3.4.0)\n",
      "Requirement already satisfied: cryptography>=36.0.0 in /opt/homebrew/lib/python3.10/site-packages (from pdfminer.six==20231228->pdfplumber) (44.0.0)\n",
      "Requirement already satisfied: anyio<5,>=3.5.0 in /opt/homebrew/lib/python3.10/site-packages (from openai) (4.6.2.post1)\n",
      "Requirement already satisfied: distro<2,>=1.7.0 in /opt/homebrew/lib/python3.10/site-packages (from openai) (1.9.0)\n",
      "Requirement already satisfied: httpx<1,>=0.23.0 in /opt/homebrew/lib/python3.10/site-packages (from openai) (0.28.0)\n",
      "Requirement already satisfied: jiter<1,>=0.4.0 in /opt/homebrew/lib/python3.10/site-packages (from openai) (0.8.0)\n",
      "Requirement already satisfied: pydantic<3,>=1.9.0 in /opt/homebrew/lib/python3.10/site-packages (from openai) (2.10.2)\n",
      "Requirement already satisfied: sniffio in /opt/homebrew/lib/python3.10/site-packages (from openai) (1.3.1)\n",
      "Requirement already satisfied: tqdm>4 in /opt/homebrew/lib/python3.10/site-packages (from openai) (4.67.1)\n",
      "Requirement already satisfied: typing-extensions<5,>=4.11 in /Users/joshuawedekind/Library/Python/3.10/lib/python/site-packages (from openai) (4.12.2)\n",
      "Collecting pytz (from neo4j)\n",
      "  Downloading pytz-2024.2-py2.py3-none-any.whl.metadata (22 kB)\n",
      "Requirement already satisfied: idna>=2.8 in /opt/homebrew/lib/python3.10/site-packages (from anyio<5,>=3.5.0->openai) (3.10)\n",
      "Requirement already satisfied: exceptiongroup>=1.0.2 in /Users/joshuawedekind/Library/Python/3.10/lib/python/site-packages (from anyio<5,>=3.5.0->openai) (1.2.2)\n",
      "Requirement already satisfied: certifi in /opt/homebrew/lib/python3.10/site-packages (from httpx<1,>=0.23.0->openai) (2024.8.30)\n",
      "Requirement already satisfied: httpcore==1.* in /opt/homebrew/lib/python3.10/site-packages (from httpx<1,>=0.23.0->openai) (1.0.7)\n",
      "Requirement already satisfied: h11<0.15,>=0.13 in /opt/homebrew/lib/python3.10/site-packages (from httpcore==1.*->httpx<1,>=0.23.0->openai) (0.14.0)\n",
      "Requirement already satisfied: annotated-types>=0.6.0 in /opt/homebrew/lib/python3.10/site-packages (from pydantic<3,>=1.9.0->openai) (0.7.0)\n",
      "Requirement already satisfied: pydantic-core==2.27.1 in /opt/homebrew/lib/python3.10/site-packages (from pydantic<3,>=1.9.0->openai) (2.27.1)\n",
      "Requirement already satisfied: cffi>=1.12 in /opt/homebrew/lib/python3.10/site-packages (from cryptography>=36.0.0->pdfminer.six==20231228->pdfplumber) (1.16.0)\n",
      "Requirement already satisfied: pycparser in /opt/homebrew/lib/python3.10/site-packages (from cffi>=1.12->cryptography>=36.0.0->pdfminer.six==20231228->pdfplumber) (2.22)\n",
      "Downloading neo4j-5.27.0-py3-none-any.whl (301 kB)\n",
      "Downloading pytz-2024.2-py2.py3-none-any.whl (508 kB)\n",
      "Installing collected packages: pytz, neo4j\n",
      "Successfully installed neo4j-5.27.0 pytz-2024.2\n",
      "\n",
      "\u001b[1m[\u001b[0m\u001b[34;49mnotice\u001b[0m\u001b[1;39;49m]\u001b[0m\u001b[39;49m A new release of pip is available: \u001b[0m\u001b[31;49m24.2\u001b[0m\u001b[39;49m -> \u001b[0m\u001b[32;49m24.3.1\u001b[0m\n",
      "\u001b[1m[\u001b[0m\u001b[34;49mnotice\u001b[0m\u001b[1;39;49m]\u001b[0m\u001b[39;49m To update, run: \u001b[0m\u001b[32;49mpython3.10 -m pip install --upgrade pip\u001b[0m\n",
      "Note: you may need to restart the kernel to use updated packages.\n"
     ]
    }
   ],
   "source": [
    "pip install pdfplumber python-dotenv openai neo4j"
   ]
  },
  {
   "cell_type": "code",
   "execution_count": 3,
   "metadata": {},
   "outputs": [
    {
     "name": "stdout",
     "output_type": "stream",
     "text": [
      "44759\n",
      "Einstein’s Patents and Inventions\n",
      "Asis Kumar Chaudhuri\n",
      "Variable Energy Cyclotron Centre\n",
      "1‐AF Bidhan Nagar, Kolkata‐700 064\n",
      "Abstract: Times magazine selected Albert Einstein, the German born Jewish Scientist as the person of the 20th\n",
      "century. Undoubtedly, 20th century was the age of science and Einstein’s contributions in unravelling mysteries\n",
      "of nature was unparalleled. However, few are aware that Einstein was also a great inventor. He and his\n",
      "collaborators had patented a wide variety of inventi\n"
     ]
    }
   ],
   "source": [
    "import pdfplumber\n",
    "\n",
    "text = \"\"\n",
    "# Open the PDF file\n",
    "with pdfplumber.open('/Users/joshuawedekind/Documents/einstein.pdf') as pdf:\n",
    "    for page in pdf.pages:\n",
    "        text += page.extract_text()\n",
    "\n",
    "print(len(text))\n",
    "print(text[0:500])\n"
   ]
  },
  {
   "cell_type": "code",
   "execution_count": 4,
   "metadata": {},
   "outputs": [
    {
     "name": "stdout",
     "output_type": "stream",
     "text": [
      "89\n"
     ]
    }
   ],
   "source": [
    "# Define the function to chunk text\n",
    "def chunk_text(text, chunk_size, overlap, split_on_whitespace_only=True):\n",
    "    chunks = []\n",
    "    index = 0\n",
    "\n",
    "    while index < len(text):\n",
    "        if split_on_whitespace_only:\n",
    "            prev_whitespace = 0\n",
    "            left_index = index - overlap\n",
    "            while left_index >= 0:\n",
    "                if text[left_index] == \" \":\n",
    "                    prev_whitespace = left_index\n",
    "                    break\n",
    "                left_index -= 1\n",
    "            next_whitespace = text.find(\" \", index + chunk_size)\n",
    "            if next_whitespace == -1:\n",
    "                next_whitespace = len(text)\n",
    "            chunk = text[prev_whitespace:next_whitespace].strip()\n",
    "            chunks.append(chunk)\n",
    "            index = next_whitespace + 1\n",
    "        else:\n",
    "            start = max(0, index - overlap + 1)\n",
    "            end = min(index + chunk_size + overlap, len(text))\n",
    "            chunk = text[start:end].strip()\n",
    "            chunks.append(chunk)\n",
    "            index += chunk_size\n",
    "\n",
    "    return chunks\n",
    "\n",
    "# Call the function and get chunks back\n",
    "chunks = chunk_text(text, 500, 40)\n",
    "\n",
    "# Print the length of the chunks list\n",
    "print(len(chunks)) # 89 chunks in total”"
   ]
  },
  {
   "cell_type": "code",
   "execution_count": 16,
   "metadata": {},
   "outputs": [],
   "source": [
    "import os\n",
    "from openai import OpenAI\n",
    "from dotenv import load_dotenv\n",
    "\n",
    "load_dotenv()\n",
    "OPENAI_API_KEY=os.getenv('OPENAI_API_KEY')\n",
    "open_ai_client = OpenAI(api_key=OPENAI_API_KEY)"
   ]
  },
  {
   "cell_type": "code",
   "execution_count": 14,
   "metadata": {},
   "outputs": [
    {
     "name": "stdout",
     "output_type": "stream",
     "text": [
      "89\n",
      "1536\n"
     ]
    }
   ],
   "source": [
    "# Define the function to embed chunks\n",
    "def embed(texts):\n",
    "    response = open_ai_client.embeddings.create(\n",
    "        input=texts,\n",
    "        model=\"text-embedding-3-small\",\n",
    "    )\n",
    "    return list(map(lambda n: n.embedding, response.data))\n",
    "\n",
    "# Call the function and get embeddings back\n",
    "embeddings = embed(chunks)\n",
    "\n",
    "# Print the length of the embeddings list\n",
    "print(len(embeddings)) # 89, matching the number of chunks\n",
    "# Print the length of the first embedding\n",
    "print(len(embeddings[0])) # 1536 dimensions”"
   ]
  },
  {
   "cell_type": "code",
   "execution_count": 17,
   "metadata": {},
   "outputs": [],
   "source": [
    "from neo4j import GraphDatabase\n",
    "\n",
    "# Neo4j connection details\n",
    "NEO4J_PASSWORD = os.getenv('NEO4J_PASSWORD')\n",
    "uri = \"bolt://localhost:7687\"\n",
    "user = \"neo4j\"\n",
    "password = NEO4J_PASSWORD\n",
    "driver = GraphDatabase.driver(uri, auth=(user, password))"
   ]
  },
  {
   "cell_type": "code",
   "execution_count": 18,
   "metadata": {},
   "outputs": [
    {
     "data": {
      "text/plain": [
       "EagerResult(records=[], summary=<neo4j._work.summary.ResultSummary object at 0x10601d1e0>, keys=[])"
      ]
     },
     "execution_count": 18,
     "metadata": {},
     "output_type": "execute_result"
    }
   ],
   "source": [
    "driver.execute_query(f\"CALL db.index.vector.createNodeIndex('pdf', 'Chunk', 'embedding', {len(embeddings[0])}, 'cosine')\")\n"
   ]
  },
  {
   "cell_type": "code",
   "execution_count": null,
   "metadata": {},
   "outputs": [],
   "source": []
  },
  {
   "cell_type": "code",
   "execution_count": 19,
   "metadata": {},
   "outputs": [
    {
     "data": {
      "text/plain": [
       "EagerResult(records=[], summary=<neo4j._work.summary.ResultSummary object at 0x117ba9750>, keys=[])"
      ]
     },
     "execution_count": 19,
     "metadata": {},
     "output_type": "execute_result"
    }
   ],
   "source": [
    "cypher_query = '''\n",
    "WITH $chunks as chunks, range(0, size($chunks)) AS index\n",
    "UNWIND index AS i\n",
    "WITH i, chunks[i] AS chunk, $embeddings[i] AS embedding\n",
    "MERGE (c:Chunk {index: i})\n",
    "SET c.text = chunk, c.embedding = embedding\n",
    "'''\n",
    "\n",
    "driver.execute_query(cypher_query, chunks=chunks, embeddings=embeddings)"
   ]
  },
  {
   "cell_type": "code",
   "execution_count": 20,
   "metadata": {},
   "outputs": [
    {
     "name": "stdout",
     "output_type": "stream",
     "text": [
      "Einstein’s Patents and Inventi\n",
      "[0.023738375, -0.022444434, -0.014644509]\n"
     ]
    }
   ],
   "source": [
    "records, _, _ = driver.execute_query(\n",
    "\"MATCH (c:Chunk) WHERE c.index = 0 RETURN c.embedding, c.text\")\n",
    "\n",
    "print(records[0][\"c.text\"][0:30])\n",
    "print(records[0][\"c.embedding\"][0:3])"
   ]
  },
  {
   "cell_type": "code",
   "execution_count": 22,
   "metadata": {},
   "outputs": [],
   "source": [
    "question = \"At what time was Einstein really interested in experimental works?\"\n",
    "question_embedding = embed([question])[0]\n"
   ]
  },
  {
   "cell_type": "code",
   "execution_count": 28,
   "metadata": {},
   "outputs": [],
   "source": [
    "query = '''\n",
    "CALL db.index.vector.queryNodes('pdf', 3, $question_embedding)\n",
    "YIELD node AS hits, score\n",
    "RETURN hits.text AS text, score, hits.index AS index\n",
    "'''\n",
    "\n",
    "similar_records, _, _ = driver.execute_query(query, question_embedding=question_embedding)"
   ]
  },
  {
   "cell_type": "code",
   "execution_count": 29,
   "metadata": {},
   "outputs": [
    {
     "name": "stdout",
     "output_type": "stream",
     "text": [
      "CH‐Switzerland\n",
      "Considering Einstein’s upbringing, his interest in inventions and patents was not unusual.\n",
      "Being a manufacturer’s son, Einstein grew upon in an environment of machines and instruments.\n",
      "When his father’s company obtained the contract to illuminate Munich city during beer festival, he\n",
      "was actively engaged in execution of the contract. In his ETH days Einstein was genuinely interested\n",
      "in experimental works. He wrote to his friend, “most of the time I worked in the physical laboratory,\n",
      "fascinated by the direct contact with observation.” Einstein's\n",
      "0.8111112117767334 42\n",
      "======\n",
      "Einstein\n",
      "left his job at the Patent office and joined the University of Zurich on October 15, 1909. Thereafter, he\n",
      "continued to rise in ladder. In 1911, he moved to Prague University as a full professor, a year later, he\n",
      "was appointed as full professor at ETH, Zurich, his alma‐mater. In 1914, he was appointed Director of\n",
      "the Kaiser Wilhelm Institute for Physics (1914–1932) and a professor at the Humboldt University of\n",
      "Berlin, with a special clause in his contract that freed him from teaching obligations. In the meantime,\n",
      "he was working for\n",
      "0.7980823516845703 31\n",
      "======\n",
      "in nuances of machines and instruments. However, it must also be\n",
      "emphasized that his main occupation was theoretical physics. The inventions he worked upon were\n",
      "his diversions. In his unproductive times he used to work upon on solving mathematical problems (not\n",
      "related to his ongoing theoretical investigations) or took upon some practical problem. As shown in\n",
      "Table. 2, Einstein was involved in three major inventions; (i) refrigeration system with Leo Szilard, (ii)\n",
      "Sound reproduction system with Rudolf Goldschmidt and (iii) automatic camera\n",
      "0.7872958183288574 44\n",
      "======\n"
     ]
    }
   ],
   "source": [
    "for record in similar_records:\n",
    "    print(record[\"text\"])\n",
    "    print(record[\"score\"], record[\"index\"])\n",
    "    print(\"======\")"
   ]
  },
  {
   "cell_type": "code",
   "execution_count": 31,
   "metadata": {},
   "outputs": [],
   "source": [
    "system_message = \"You're en Einstein expert, but can only use the provided documents to respond to the questions.\"\n",
    "\n",
    "user_message = f\"\"\"\n",
    "Use the following documents to answer the question that will follow:\n",
    "{[doc[\"text\"] for doc in similar_records]}\n",
    "\n",
    "---\n",
    "\n",
    "The question to answer using information only from the above documents:\n",
    "{question}\n",
    "\"\"\""
   ]
  },
  {
   "cell_type": "code",
   "execution_count": 32,
   "metadata": {},
   "outputs": [
    {
     "name": "stdout",
     "output_type": "stream",
     "text": [
      "Question: At what time was Einstein really interested in experimental works?\n",
      "During his days at ETH, Einstein was genuinely interested in experimental works."
     ]
    }
   ],
   "source": [
    "print(\"Question:\", question)\n",
    "\n",
    "stream = open_ai_client.chat.completions.create(\n",
    "    model=\"gpt-4\",\n",
    "    messages=[\n",
    "        {\"role\": \"system\", \"content\": system_message},\n",
    "        {\"role\": \"user\", \"content\": user_message}\n",
    "    ],\n",
    "    stream=True,\n",
    ")\n",
    "for chunk in stream:\n",
    "    print(chunk.choices[0].delta.content or \"\", end=\"\")\n"
   ]
  },
  {
   "cell_type": "code",
   "execution_count": 33,
   "metadata": {},
   "outputs": [
    {
     "data": {
      "text/plain": [
       "EagerResult(records=[], summary=<neo4j._work.summary.ResultSummary object at 0x106034700>, keys=[])"
      ]
     },
     "execution_count": 33,
     "metadata": {},
     "output_type": "execute_result"
    }
   ],
   "source": [
    "driver.execute_query(\"CREATE FULLTEXT INDEX PdfChunkFulltext FOR (c:Chunk) ON EACH [c.text]\")"
   ]
  },
  {
   "cell_type": "code",
   "execution_count": null,
   "metadata": {},
   "outputs": [],
   "source": []
  }
 ],
 "metadata": {
  "kernelspec": {
   "display_name": "Python 3",
   "language": "python",
   "name": "python3"
  },
  "language_info": {
   "codemirror_mode": {
    "name": "ipython",
    "version": 3
   },
   "file_extension": ".py",
   "mimetype": "text/x-python",
   "name": "python",
   "nbconvert_exporter": "python",
   "pygments_lexer": "ipython3",
   "version": "3.10.15"
  }
 },
 "nbformat": 4,
 "nbformat_minor": 2
}
